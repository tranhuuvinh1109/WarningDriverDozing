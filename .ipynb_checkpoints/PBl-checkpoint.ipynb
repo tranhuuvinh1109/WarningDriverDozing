{
 "cells": [
  {
   "cell_type": "code",
   "execution_count": 1,
   "id": "20d84949-fc94-48b2-a630-bd3f4c8c200a",
   "metadata": {
    "tags": []
   },
   "outputs": [
    {
     "name": "stderr",
     "output_type": "stream",
     "text": [
      "C:\\Users\\Tran Huu Vinh\\AppData\\Local\\Programs\\Python\\Python310\\lib\\site-packages\\tqdm\\auto.py:22: TqdmWarning: IProgress not found. Please update jupyter and ipywidgets. See https://ipywidgets.readthedocs.io/en/stable/user_install.html\n",
      "  from .autonotebook import tqdm as notebook_tqdm\n"
     ]
    }
   ],
   "source": [
    "import torch\n",
    "from matplotlib import pyplot as plt\n",
    "import numpy as np\n",
    "import cv2\n",
    "import uuid\n",
    "import os\n",
    "import time"
   ]
  },
  {
   "cell_type": "code",
   "execution_count": 2,
   "id": "6c562624-9a1c-4f5a-a07b-f02c6f622f46",
   "metadata": {},
   "outputs": [
    {
     "name": "stderr",
     "output_type": "stream",
     "text": [
      "Downloading: \"https://github.com/ultralytics/yolov5/zipball/master\" to C:\\Users\\Tran Huu Vinh/.cache\\torch\\hub\\master.zip\n",
      "YOLOv5  2022-12-14 Python-3.10.7 torch-1.13.0+cu116 CPU\n",
      "\n",
      "Fusing layers... \n",
      "Model summary: 157 layers, 7055974 parameters, 0 gradients, 15.9 GFLOPs\n",
      "Adding AutoShape... \n"
     ]
    }
   ],
   "source": [
    "model = torch.hub.load('ultralytics/yolov5', 'custom', path='yolov5/runs/train/exp23/weights/last.pt', force_reload=True)"
   ]
  },
  {
   "cell_type": "code",
   "execution_count": 3,
   "id": "85777ee5-2982-4a5e-8c1e-185225f23ddd",
   "metadata": {
    "tags": []
   },
   "outputs": [
    {
     "name": "stdout",
     "output_type": "stream",
     "text": [
      "--->awake 16\n",
      "--->awake 17\n",
      "--->awake 18\n",
      "--->awake 19\n",
      "--->awake 20\n",
      "--->awake 21\n",
      "--->awake 22\n",
      "--->awake 23\n",
      "--->awake 24\n",
      "--->awake 25\n",
      "--->awake 26\n",
      "--->awake 27\n",
      "--->awake 28\n",
      "--->awake 29\n",
      "--->awake 30\n",
      "--->awake 31\n",
      "--->awake 32\n",
      "--->awake 33\n",
      "--->drowsy 16\n",
      "--->drowsy 17\n",
      "--->drowsy 18\n",
      "--->drowsy 19\n",
      "--->drowsy 20\n",
      "--->drowsy 21\n",
      "--->drowsy 22\n",
      "--->drowsy 23\n",
      "--->drowsy 24\n",
      "--->drowsy 25\n",
      "--->drowsy 26\n",
      "--->drowsy 27\n",
      "--->drowsy 28\n",
      "--->drowsy 29\n",
      "--->drowsy 30\n",
      "--->drowsy 31\n",
      "--->drowsy 32\n"
     ]
    }
   ],
   "source": [
    "cap = cv2.VideoCapture(0)\n",
    "time_awake = 0\n",
    "time_drowsy = 0\n",
    "\n",
    "def check_drowsy(value_awake, value_drowsy):\n",
    "    if value_awake > 15:\n",
    "        print(\"--->awake\", value_awake)\n",
    "#         This is the state of the driver awake \n",
    "    if value_drowsy > 15:\n",
    "        print(\"--->drowsy\", value_drowsy)\n",
    "#         This is the state of a drowsy driver and the car will turn on the bell and warning light\n",
    "    else:\n",
    "        print(\"Face not detected!!!\")\n",
    "    \n",
    "\n",
    "while cap.isOpened():\n",
    "    ret, frame = cap.read()\n",
    "    \n",
    "    # Make detections \n",
    "    results = model(frame)\n",
    "    \n",
    "    cv2.imshow('YOLO', np.squeeze(results.render()))\n",
    "    if results.pandas().xyxy[0].to_json(orient=\"records\"):\n",
    "        if \"awake\" in results.pandas().xyxy[0].to_json(orient=\"records\"):\n",
    "            time_awake += 1\n",
    "            time_drowsy = 0\n",
    "            check_drowsy(time_awake, time_drowsy)\n",
    "            \n",
    "        if \"drowsy\" in results.pandas().xyxy[0].to_json(orient=\"records\"):\n",
    "            time_awake = 0\n",
    "            time_drowsy += 1\n",
    "            check_drowsy(time_awake, time_drowsy)\n",
    "            \n",
    "    if cv2.waitKey(10) & 0xFF == ord('q'):\n",
    "        break\n",
    "cap.release()\n",
    "cv2.destroyAllWindows()\n"
   ]
  },
  {
   "cell_type": "code",
   "execution_count": null,
   "id": "f6f88798-b039-49ee-b9e0-fc0b5058aa4e",
   "metadata": {},
   "outputs": [],
   "source": []
  }
 ],
 "metadata": {
  "kernelspec": {
   "display_name": "Python 3 (ipykernel)",
   "language": "python",
   "name": "python3"
  },
  "language_info": {
   "codemirror_mode": {
    "name": "ipython",
    "version": 3
   },
   "file_extension": ".py",
   "mimetype": "text/x-python",
   "name": "python",
   "nbconvert_exporter": "python",
   "pygments_lexer": "ipython3",
   "version": "3.10.7"
  }
 },
 "nbformat": 4,
 "nbformat_minor": 5
}
