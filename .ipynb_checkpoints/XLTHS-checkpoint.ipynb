{
 "cells": [
  {
   "cell_type": "code",
   "execution_count": null,
   "id": "e0bcd9df-1b71-4bb7-9714-40497f50e2a5",
   "metadata": {},
   "outputs": [],
   "source": [
    "import numpy as np\n",
    "import matplotlib.pyplot as plt\n",
    "from scipy.signal import hann, hamming, butter, lfilter, freqz, resample\n",
    "import scipy.io.wavfile as wav\n",
    "\n",
    "\n",
    "\n",
    "def energy_based_speech_silence_discrimination(y, fs, frame_length, hop_length, threshold_factor,\n",
    "                                               window_type='rectwin'):\n",
    "    \"\"\"\n",
    "    y: tín hiệu âm thanh đầu vào\n",
    "    fs: tần số lấy mẫu của tín hiệu\n",
    "    frame_length: độ dài của từng khung tính toán năng lượng\n",
    "    hop_length: độ dài bước nhảy giữa các khung\n",
    "    threshold_factor: hệ số nhân với giá trị trung bình năng lượng để tính ngưỡng\n",
    "    window_type: loại cửa sổ sử dụng để tính toán năng lượng của các khung\n",
    "    \"\"\"\n",
    "\n",
    "    # Tạo cửa sổ tính toán năng lượng\n",
    "    if window_type == 'hamming':\n",
    "        window = hann(frame_length)\n",
    "    elif window_type == 'hanning':\n",
    "        window = hamming(frame_length)\n",
    "    else:\n",
    "        window = np.ones(frame_length)\n",
    "\n",
    "    # Chia tín hiệu thành các khung và áp dụng cửa sổ\n",
    "    frames = np.array([y[i:i + frame_length] * window for i in range(0, len(y) - frame_length, hop_length)])\n",
    "\n",
    "    # Tính toán năng lượng của từng khung\n",
    "    energy = np.sum(frames ** 2, axis=1)\n",
    "\n",
    "    # Tính giá trị trung bình của năng lượng\n",
    "    threshold = np.mean(energy) * threshold_factor\n",
    "\n",
    "    # Phân loại các khung là tiếng nói hoặc im lặng\n",
    "    is_speech = energy > threshold\n",
    "\n",
    "    # Vẽ đồ thị\n",
    "    time = np.arange(len(y)) / fs\n",
    "    plt.subplot(2, 1, 1)\n",
    "    plt.plot(time, y)\n",
    "    plt.xlabel('Thời gian (s)')\n",
    "    plt.ylabel('Amplitude')\n",
    "    plt.subplot(2, 1, 2)\n",
    "    plt.plot(np.arange(len(is_speech)) * hop_length / fs, energy)\n",
    "    plt.plot(np.arange(len(is_speech)) * hop_length / fs, np.ones(len(is_speech)) * threshold, 'r--')\n",
    "    plt.xlabel('Thời gian (s)')\n",
    "    plt.ylabel('Energy')\n",
    "    plt.legend(['Energy', 'Threshold'])\n",
    "    plt.show()\n",
    "\n",
    "    return is_speech"
   ]
  },
  {
   "cell_type": "code",
   "execution_count": null,
   "id": "fdccbf4d-b3c1-4400-a6cc-31d85c609149",
   "metadata": {},
   "outputs": [],
   "source": [
    "\n",
    "fs,signal=wav.read()\n",
    "print(energy_based_speech_silence_discrimination())"
   ]
  }
 ],
 "metadata": {
  "kernelspec": {
   "display_name": "Python 3 (ipykernel)",
   "language": "python",
   "name": "python3"
  },
  "language_info": {
   "codemirror_mode": {
    "name": "ipython",
    "version": 3
   },
   "file_extension": ".py",
   "mimetype": "text/x-python",
   "name": "python",
   "nbconvert_exporter": "python",
   "pygments_lexer": "ipython3",
   "version": "3.10.7"
  }
 },
 "nbformat": 4,
 "nbformat_minor": 5
}
