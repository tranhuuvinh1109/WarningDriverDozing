{
 "cells": [
  {
   "cell_type": "code",
   "execution_count": 1,
   "id": "20d84949-fc94-48b2-a630-bd3f4c8c200a",
   "metadata": {
    "tags": []
   },
   "outputs": [
    {
     "name": "stderr",
     "output_type": "stream",
     "text": [
      "C:\\Users\\Tran Huu Vinh\\AppData\\Local\\Programs\\Python\\Python310\\lib\\site-packages\\tqdm\\auto.py:22: TqdmWarning: IProgress not found. Please update jupyter and ipywidgets. See https://ipywidgets.readthedocs.io/en/stable/user_install.html\n",
      "  from .autonotebook import tqdm as notebook_tqdm\n"
     ]
    }
   ],
   "source": [
    "import torch\n",
    "from matplotlib import pyplot as plt\n",
    "import numpy as np\n",
    "import cv2\n",
    "import uuid\n",
    "import os\n",
    "import time"
   ]
  },
  {
   "cell_type": "code",
   "execution_count": 1,
   "id": "b68fb259-b223-40ee-9d9c-6a459008dcaa",
   "metadata": {},
   "outputs": [
    {
     "name": "stdout",
     "output_type": "stream",
     "text": [
      "Requirement already satisfied: pyqt5 in c:\\users\\tran huu vinh\\appdata\\local\\programs\\python\\python310\\lib\\site-packages (5.15.7)\n",
      "Requirement already satisfied: lxml in c:\\users\\tran huu vinh\\appdata\\local\\programs\\python\\python310\\lib\\site-packages (4.9.1)\n",
      "Collecting lxml\n",
      "  Downloading lxml-4.9.2-cp310-cp310-win_amd64.whl (3.8 MB)\n",
      "     ---------------------------------------- 3.8/3.8 MB 3.1 MB/s eta 0:00:00\n",
      "Requirement already satisfied: PyQt5-sip<13,>=12.11 in c:\\users\\tran huu vinh\\appdata\\local\\programs\\python\\python310\\lib\\site-packages (from pyqt5) (12.11.0)\n",
      "Requirement already satisfied: PyQt5-Qt5>=5.15.0 in c:\\users\\tran huu vinh\\appdata\\local\\programs\\python\\python310\\lib\\site-packages (from pyqt5) (5.15.2)\n",
      "Installing collected packages: lxml\n",
      "  Attempting uninstall: lxml\n",
      "    Found existing installation: lxml 4.9.1\n",
      "    Uninstalling lxml-4.9.1:\n",
      "      Successfully uninstalled lxml-4.9.1\n"
     ]
    },
    {
     "name": "stderr",
     "output_type": "stream",
     "text": [
      "WARNING: Ignoring invalid distribution -illow (c:\\users\\tran huu vinh\\appdata\\local\\programs\\python\\python310\\lib\\site-packages)\n",
      "WARNING: Ignoring invalid distribution -illow (c:\\users\\tran huu vinh\\appdata\\local\\programs\\python\\python310\\lib\\site-packages)\n",
      "WARNING: Ignoring invalid distribution -illow (c:\\users\\tran huu vinh\\appdata\\local\\programs\\python\\python310\\lib\\site-packages)\n",
      "    WARNING: Ignoring invalid distribution -illow (c:\\users\\tran huu vinh\\appdata\\local\\programs\\python\\python310\\lib\\site-packages)\n",
      "ERROR: Could not install packages due to an OSError: [WinError 5] Access is denied: 'C:\\\\Users\\\\Tran Huu Vinh\\\\AppData\\\\Local\\\\Programs\\\\Python\\\\Python310\\\\Lib\\\\site-packages\\\\~xml\\\\etree.cp310-win_amd64.pyd'\n",
      "Consider using the `--user` option or check the permissions.\n",
      "\n",
      "WARNING: Ignoring invalid distribution -illow (c:\\users\\tran huu vinh\\appdata\\local\\programs\\python\\python310\\lib\\site-packages)\n",
      "WARNING: Ignoring invalid distribution -illow (c:\\users\\tran huu vinh\\appdata\\local\\programs\\python\\python310\\lib\\site-packages)\n",
      "WARNING: Ignoring invalid distribution -illow (c:\\users\\tran huu vinh\\appdata\\local\\programs\\python\\python310\\lib\\site-packages)\n"
     ]
    }
   ],
   "source": [
    "!pip install pyqt5 lxml --upgrade\n",
    "!cd labelImg && pyrcc5 -o libs/resources.py resources.qrc"
   ]
  },
  {
   "cell_type": "code",
   "execution_count": 2,
   "id": "6c562624-9a1c-4f5a-a07b-f02c6f622f46",
   "metadata": {},
   "outputs": [
    {
     "name": "stderr",
     "output_type": "stream",
     "text": [
      "Downloading: \"https://github.com/ultralytics/yolov5/zipball/master\" to C:\\Users\\Tran Huu Vinh/.cache\\torch\\hub\\master.zip\n",
      "YOLOv5  2022-12-20 Python-3.10.7 torch-1.13.0+cu116 CPU\n",
      "\n",
      "Fusing layers... \n",
      "Model summary: 157 layers, 7055974 parameters, 0 gradients, 15.9 GFLOPs\n",
      "Adding AutoShape... \n"
     ]
    }
   ],
   "source": [
    "model = torch.hub.load('ultralytics/yolov5', 'custom', path='yolov5/runs/train/exp23/weights/last.pt', force_reload=True)"
   ]
  },
  {
   "cell_type": "code",
   "execution_count": 3,
   "id": "85777ee5-2982-4a5e-8c1e-185225f23ddd",
   "metadata": {
    "tags": []
   },
   "outputs": [
    {
     "name": "stdout",
     "output_type": "stream",
     "text": [
      "Face not detected!!!\n",
      "Face not detected!!!\n",
      "Face not detected!!!\n",
      "Face not detected!!!\n",
      "Face not detected!!!\n",
      "Face not detected!!!\n",
      "Face not detected!!!\n",
      "Face not detected!!!\n",
      "Face not detected!!!\n",
      "Face not detected!!!\n",
      "Face not detected!!!\n",
      "Face not detected!!!\n",
      "Face not detected!!!\n",
      "Face not detected!!!\n",
      "Face not detected!!!\n",
      "Face not detected!!!\n",
      "Face not detected!!!\n",
      "Face not detected!!!\n",
      "Face not detected!!!\n",
      "Face not detected!!!\n",
      "Face not detected!!!\n",
      "Face not detected!!!\n",
      "Face not detected!!!\n",
      "Face not detected!!!\n",
      "Face not detected!!!\n",
      "Face not detected!!!\n",
      "Face not detected!!!\n",
      "Face not detected!!!\n",
      "Face not detected!!!\n",
      "Face not detected!!!\n",
      "Face not detected!!!\n",
      "Face not detected!!!\n",
      "Face not detected!!!\n",
      "Face not detected!!!\n",
      "Face not detected!!!\n",
      "Face not detected!!!\n",
      "Face not detected!!!\n",
      "Face not detected!!!\n",
      "Face not detected!!!\n",
      "Face not detected!!!\n",
      "Face not detected!!!\n",
      "Face not detected!!!\n",
      "Face not detected!!!\n",
      "Face not detected!!!\n",
      "Face not detected!!!\n",
      "--->awake 16\n",
      "Face not detected!!!\n",
      "--->awake 17\n",
      "Face not detected!!!\n",
      "--->awake 18\n",
      "Face not detected!!!\n",
      "--->awake 19\n",
      "Face not detected!!!\n",
      "--->awake 20\n",
      "Face not detected!!!\n",
      "--->awake 21\n",
      "Face not detected!!!\n",
      "--->awake 22\n",
      "Face not detected!!!\n",
      "--->awake 23\n",
      "Face not detected!!!\n",
      "--->awake 24\n",
      "Face not detected!!!\n",
      "--->awake 25\n",
      "Face not detected!!!\n",
      "--->awake 26\n",
      "Face not detected!!!\n",
      "--->awake 27\n",
      "Face not detected!!!\n",
      "--->awake 28\n",
      "Face not detected!!!\n",
      "--->awake 29\n",
      "Face not detected!!!\n",
      "--->awake 30\n",
      "Face not detected!!!\n",
      "--->awake 31\n",
      "Face not detected!!!\n",
      "--->awake 32\n",
      "Face not detected!!!\n",
      "--->awake 33\n",
      "Face not detected!!!\n",
      "--->awake 34\n",
      "Face not detected!!!\n",
      "--->awake 35\n",
      "Face not detected!!!\n",
      "--->awake 36\n",
      "Face not detected!!!\n",
      "--->awake 37\n",
      "Face not detected!!!\n"
     ]
    }
   ],
   "source": [
    "cap = cv2.VideoCapture(0)\n",
    "time_awake = 0\n",
    "time_drowsy = 0\n",
    "\n",
    "def check_drowsy(value_awake, value_drowsy):\n",
    "    if value_awake > 15:\n",
    "        print(\"--->awake\", value_awake)\n",
    "#         This is the state of the driver awake \n",
    "    if value_drowsy > 15:\n",
    "        print(\"--->drowsy\", value_drowsy)\n",
    "#         This is the state of a drowsy driver and the car will turn on the bell and warning light\n",
    "    else:\n",
    "        print(\"Face not detected!!!\")\n",
    "    \n",
    "\n",
    "while cap.isOpened():\n",
    "    ret, frame = cap.read()\n",
    "    \n",
    "    # Make detections \n",
    "    results = model(frame)\n",
    "    \n",
    "    cv2.imshow('YOLO', np.squeeze(results.render()))\n",
    "    if results.pandas().xyxy[0].to_json(orient=\"records\"):\n",
    "        if \"awake\" in results.pandas().xyxy[0].to_json(orient=\"records\"):\n",
    "            time_awake += 1\n",
    "            time_drowsy = 0\n",
    "            check_drowsy(time_awake, time_drowsy)\n",
    "            \n",
    "        if \"drowsy\" in results.pandas().xyxy[0].to_json(orient=\"records\"):\n",
    "            time_awake = 0\n",
    "            time_drowsy += 1\n",
    "            check_drowsy(time_awake, time_drowsy)\n",
    "            \n",
    "    if cv2.waitKey(10) & 0xFF == ord('q'):\n",
    "        break\n",
    "cap.release()\n",
    "cv2.destroyAllWindows()\n"
   ]
  },
  {
   "cell_type": "code",
   "execution_count": null,
   "id": "f6f88798-b039-49ee-b9e0-fc0b5058aa4e",
   "metadata": {},
   "outputs": [],
   "source": []
  }
 ],
 "metadata": {
  "kernelspec": {
   "display_name": "Python 3 (ipykernel)",
   "language": "python",
   "name": "python3"
  },
  "language_info": {
   "codemirror_mode": {
    "name": "ipython",
    "version": 3
   },
   "file_extension": ".py",
   "mimetype": "text/x-python",
   "name": "python",
   "nbconvert_exporter": "python",
   "pygments_lexer": "ipython3",
   "version": "3.10.7"
  }
 },
 "nbformat": 4,
 "nbformat_minor": 5
}
