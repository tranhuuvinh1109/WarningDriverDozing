{
 "cells": [
  {
   "cell_type": "code",
   "execution_count": 2,
   "id": "7050849a-734b-461e-b844-05fdd5bbb374",
   "metadata": {},
   "outputs": [
    {
     "ename": "AttributeError",
     "evalue": "'numpy.ndarray' object has no attribute 'get_window'",
     "output_type": "error",
     "traceback": [
      "\u001b[1;31m---------------------------------------------------------------------------\u001b[0m",
      "\u001b[1;31mAttributeError\u001b[0m                            Traceback (most recent call last)",
      "Cell \u001b[1;32mIn [2], line 59\u001b[0m\n\u001b[0;32m     56\u001b[0m window_type \u001b[38;5;241m=\u001b[39m \u001b[38;5;124m'\u001b[39m\u001b[38;5;124mhamming\u001b[39m\u001b[38;5;124m'\u001b[39m\n\u001b[0;32m     58\u001b[0m \u001b[38;5;66;03m# Phân loại tiếng nói và im lặng\u001b[39;00m\n\u001b[1;32m---> 59\u001b[0m is_speech \u001b[38;5;241m=\u001b[39m \u001b[43menergy_based_speech_silence_discrimination\u001b[49m\u001b[43m(\u001b[49m\u001b[43msignal\u001b[49m\u001b[43m,\u001b[49m\u001b[43m \u001b[49m\u001b[43mfs\u001b[49m\u001b[43m,\u001b[49m\u001b[43m \u001b[49m\u001b[43mframe_length\u001b[49m\u001b[43m,\u001b[49m\u001b[43m \u001b[49m\u001b[43mhop_length\u001b[49m\u001b[43m,\u001b[49m\u001b[43m \u001b[49m\u001b[43mthreshold_factor\u001b[49m\u001b[43m,\u001b[49m\u001b[43m \u001b[49m\u001b[43mwindow_type\u001b[49m\u001b[43m)\u001b[49m\n\u001b[0;32m     61\u001b[0m \u001b[38;5;66;03m# Vẽ đồ thị biểu diễn phân loại tiếng nói và im lặng\u001b[39;00m\n\u001b[0;32m     62\u001b[0m plt\u001b[38;5;241m.\u001b[39mfigure(figsize\u001b[38;5;241m=\u001b[39m(\u001b[38;5;241m10\u001b[39m, \u001b[38;5;241m4\u001b[39m))\n",
      "Cell \u001b[1;32mIn [2], line 15\u001b[0m, in \u001b[0;36menergy_based_speech_silence_discrimination\u001b[1;34m(signal, fs, frame_length, hop_length, threshold_factor, window_type)\u001b[0m\n\u001b[0;32m     12\u001b[0m hop_samples \u001b[38;5;241m=\u001b[39m \u001b[38;5;28mint\u001b[39m(hop_length \u001b[38;5;241m*\u001b[39m fs)\n\u001b[0;32m     14\u001b[0m \u001b[38;5;66;03m# Tạo cửa sổ (window) cho từng khung\u001b[39;00m\n\u001b[1;32m---> 15\u001b[0m window \u001b[38;5;241m=\u001b[39m \u001b[43msignal\u001b[49m\u001b[38;5;241;43m.\u001b[39;49m\u001b[43mget_window\u001b[49m(window_type, frame_samples)\n\u001b[0;32m     17\u001b[0m \u001b[38;5;66;03m# Tính toán số lượng khung tín hiệu\u001b[39;00m\n\u001b[0;32m     18\u001b[0m num_frames \u001b[38;5;241m=\u001b[39m \u001b[38;5;28mint\u001b[39m(np\u001b[38;5;241m.\u001b[39mceil(\u001b[38;5;28mlen\u001b[39m(signal) \u001b[38;5;241m/\u001b[39m hop_samples))\n",
      "\u001b[1;31mAttributeError\u001b[0m: 'numpy.ndarray' object has no attribute 'get_window'"
     ]
    }
   ],
   "source": [
    "import scipy.io.wavfile as wav\n",
    "import matplotlib.pyplot as plt\n",
    "import scipy.signal as signal\n",
    "import numpy as np\n",
    "\n",
    "\n",
    "def energy_based_speech_silence_discrimination(signal, fs, frame_length, hop_length, threshold_factor, window_type):\n",
    "    # Tính số lượng mẫu trong mỗi khung\n",
    "    frame_samples = int(frame_length * fs)\n",
    "    \n",
    "    # Tính số lượng mẫu nhảy giữa các khung\n",
    "    hop_samples = int(hop_length * fs)\n",
    "    \n",
    "    # Tạo cửa sổ (window) cho từng khung\n",
    "    window = signal.get_window(window_type, frame_samples)\n",
    "    \n",
    "    # Tính toán số lượng khung tín hiệu\n",
    "    num_frames = int(np.ceil(len(signal) / hop_samples))\n",
    "    \n",
    "    # Khởi tạo mảng lưu trữ năng lượng của các khung\n",
    "    frame_energies = np.zeros(num_frames)\n",
    "    \n",
    "    # Tính toán năng lượng của từng khung\n",
    "    for i in range(num_frames):\n",
    "        # Tính toán chỉ số mẫu bắt đầu và kết thúc của khung hiện tại\n",
    "        start = i * hop_samples\n",
    "        end = start + frame_samples\n",
    "        \n",
    "        # Trích xuất khung tín hiệu hiện tại\n",
    "        frame = signal[start:end]\n",
    "        \n",
    "        # Áp dụng cửa sổ cho khung tín hiệu\n",
    "        frame *= window\n",
    "        \n",
    "        # Tính toán năng lượng của khung tín hiệu\n",
    "        frame_energy = np.sum(np.square(frame))\n",
    "        \n",
    "        # Lưu trữ năng lượng của khung tín hiệu\n",
    "        frame_energies[i] = frame_energy\n",
    "    \n",
    "    # Tính toán ngưỡng phân loại giữa tiếng nói và im lặng\n",
    "    threshold = threshold_factor * np.median(frame_energies)\n",
    "    \n",
    "    # Phân loại các khung tín hiệu là tiếng nói hay im lặng dựa trên ngưỡng\n",
    "    is_speech = frame_energies > threshold\n",
    "    \n",
    "    return is_speech\n",
    "# Load tập tin âm thanh\n",
    "audio_file = 'phone_F1.wav'\n",
    "fs,signal=wav.read('phone_F1.wav')\n",
    "\n",
    "# Các tham số cho hàm phân loại tiếng nói và im lặng\n",
    "frame_length = 0.02   # 20 ms\n",
    "hop_length = 0.01     # 10 ms\n",
    "threshold_factor = 5  # ngưỡng phân loại\n",
    "window_type = 'hamming'\n",
    "\n",
    "# Phân loại tiếng nói và im lặng\n",
    "is_speech = energy_based_speech_silence_discrimination(signal, fs, frame_length, hop_length, threshold_factor, window_type)\n",
    "\n",
    "# Vẽ đồ thị biểu diễn phân loại tiếng nói và im lặng\n",
    "plt.figure(figsize=(10, 4))\n",
    "plt.plot(signal, color='gray', label='signal')\n",
    "plt.plot(is_speech * np.max(signal), color='blue', label='speech')\n",
    "plt.legend()\n",
    "plt.xlabel('Time (samples)')\n",
    "plt.ylabel('Amplitude')\n",
    "plt.show()\n"
   ]
  },
  {
   "cell_type": "code",
   "execution_count": null,
   "id": "fd593e98-cf82-4181-96f2-97b38c77a645",
   "metadata": {},
   "outputs": [],
   "source": []
  }
 ],
 "metadata": {
  "kernelspec": {
   "display_name": "Python 3 (ipykernel)",
   "language": "python",
   "name": "python3"
  },
  "language_info": {
   "codemirror_mode": {
    "name": "ipython",
    "version": 3
   },
   "file_extension": ".py",
   "mimetype": "text/x-python",
   "name": "python",
   "nbconvert_exporter": "python",
   "pygments_lexer": "ipython3",
   "version": "3.10.7"
  }
 },
 "nbformat": 4,
 "nbformat_minor": 5
}
