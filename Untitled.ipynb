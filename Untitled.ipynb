{
 "cells": [
  {
   "cell_type": "code",
   "execution_count": 16,
   "id": "c1973b1a-ccef-4f23-bd2e-8846f442dffa",
   "metadata": {},
   "outputs": [],
   "source": [
    "import numpy as np\n",
    "import matplotlib.pyplot as plt\n",
    "from scipy.signal import hann, hamming, butter, lfilter, freqz, resample\n",
    "import scipy.io.wavfile as wav\n"
   ]
  },
  {
   "cell_type": "code",
   "execution_count": 29,
   "id": "0af2b64d-bc68-4dde-9568-eaa3abdb6d18",
   "metadata": {},
   "outputs": [],
   "source": [
    "def energy_based_speech_silence_discrimination(y, fs):\n",
    "    \"\"\"\n",
    "    y: tín hiệu âm thanh đầu vào\n",
    "    fs: tần số lấy mẫu của tín hiệu\n",
    "    frame_length: độ dài của từng khung tính toán năng lượng\n",
    "    hop_length: độ dài bước nhảy giữa các khung\n",
    "    threshold_factor: hệ số nhân với giá trị trung bình năng lượng để tính ngưỡng\n",
    "    window_type: loại cửa sổ sử dụng để tính toán năng lượng của các khung\n",
    "    \"\"\"\n",
    "    # Chia tín hiệu thành các khung và áp dụng cửa sổ\n",
    "    fr_time = 0.025\n",
    "    frame_length = round(fr_time * fs);\n",
    "    frames = np.array([y[i:i+frame_length] for i in range(0, len(y)-frame_length)])\n",
    "    \n",
    "    # Tính toán năng lượng của từng khung\n",
    "    energy = np.sum(frames**2)\n",
    "    \n",
    "    # Tính giá trị trung bình của năng lượng\n",
    "    threshold = np.mean(energy)\n",
    "    \n",
    "    # Phân loại các khung là tiếng nói hoặc im lặng\n",
    "    is_speech = energy > threshold\n",
    "    print(np.array(energy), threshold, frames)"
   ]
  },
  {
   "cell_type": "code",
   "execution_count": 30,
   "id": "d42f1af9-ec55-4f02-9502-be5144cd5a58",
   "metadata": {},
   "outputs": [
    {
     "name": "stdout",
     "output_type": "stream",
     "text": [
      "1487599300 1487599300.0 [[ 145  206  243 ... -243 -186 -176]\n",
      " [ 206  243  227 ... -186 -176 -180]\n",
      " [ 243  227  190 ... -176 -180 -171]\n",
      " ...\n",
      " [-342 -522 -618 ...  257  174  117]\n",
      " [-522 -618 -607 ...  174  117   88]\n",
      " [-618 -607 -416 ...  117   88   70]]\n"
     ]
    }
   ],
   "source": [
    "fs,signal=wav.read('phone_F1.wav')\n",
    "energy_based_speech_silence_discrimination(signal, fs)"
   ]
  },
  {
   "cell_type": "code",
   "execution_count": null,
   "id": "13d70cff-3ec0-4a84-9b74-7d1a277acb81",
   "metadata": {},
   "outputs": [],
   "source": []
  }
 ],
 "metadata": {
  "kernelspec": {
   "display_name": "Python 3 (ipykernel)",
   "language": "python",
   "name": "python3"
  },
  "language_info": {
   "codemirror_mode": {
    "name": "ipython",
    "version": 3
   },
   "file_extension": ".py",
   "mimetype": "text/x-python",
   "name": "python",
   "nbconvert_exporter": "python",
   "pygments_lexer": "ipython3",
   "version": "3.10.7"
  }
 },
 "nbformat": 4,
 "nbformat_minor": 5
}
